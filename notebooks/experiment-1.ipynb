{
 "cells": [
  {
   "cell_type": "markdown",
   "id": "0856fc06",
   "metadata": {},
   "source": [
    "# Load data and split to train and test"
   ]
  },
  {
   "cell_type": "code",
   "execution_count": null,
   "id": "91e29798",
   "metadata": {},
   "outputs": [],
   "source": [
    "import pandas as pd\n",
    "import numpy as np"
   ]
  },
  {
   "cell_type": "code",
   "execution_count": null,
   "id": "ad00f0ae",
   "metadata": {},
   "outputs": [],
   "source": [
    "reviews = pd.read_csv('Reviews.csv')"
   ]
  },
  {
   "cell_type": "code",
   "execution_count": null,
   "id": "e43f91bb",
   "metadata": {},
   "outputs": [],
   "source": [
    "reviews.head(10)"
   ]
  },
  {
   "cell_type": "code",
   "execution_count": null,
   "id": "e8da5bf0",
   "metadata": {},
   "outputs": [],
   "source": [
    "def classifier(row):\n",
    "    if row['Score'] > 3:\n",
    "        return 'Positive'\n",
    "    else:\n",
    "        return 'Negative'\n",
    "\n",
    "reviews['Response'] = reviews.apply(classifier, axis=1)"
   ]
  },
  {
   "cell_type": "code",
   "execution_count": null,
   "id": "103e5b19",
   "metadata": {},
   "outputs": [],
   "source": [
    "reviews.head(10)"
   ]
  },
  {
   "cell_type": "code",
   "execution_count": null,
   "id": "7b4e754f",
   "metadata": {},
   "outputs": [],
   "source": [
    "total_size = len(reviews)\n",
    "total_size"
   ]
  },
  {
   "cell_type": "code",
   "execution_count": null,
   "id": "bdd9f549",
   "metadata": {},
   "outputs": [],
   "source": [
    "train_size = int(0.70*total_size)\n",
    "train_size"
   ]
  },
  {
   "cell_type": "code",
   "execution_count": null,
   "id": "ca748eee",
   "metadata": {},
   "outputs": [],
   "source": [
    "trainSet = reviews.head(train_size)\n",
    "testSet = reviews.tail(total_size-train_size)"
   ]
  },
  {
   "cell_type": "code",
   "execution_count": null,
   "id": "8c78d123",
   "metadata": {},
   "outputs": [],
   "source": [
    "trainSet.Score.value_counts()"
   ]
  },
  {
   "cell_type": "code",
   "execution_count": null,
   "id": "6fa1e475",
   "metadata": {},
   "outputs": [],
   "source": [
    "testSet.Score.value_counts()"
   ]
  },
  {
   "cell_type": "code",
   "execution_count": null,
   "id": "4ce1bbe6",
   "metadata": {},
   "outputs": [],
   "source": [
    "trainSet.head(50).Score.value_counts()"
   ]
  },
  {
   "cell_type": "code",
   "execution_count": null,
   "id": "f09bd5b3",
   "metadata": {},
   "outputs": [],
   "source": [
    "testSet.head(50).Score.value_counts()"
   ]
  },
  {
   "cell_type": "markdown",
   "id": "c62a4063",
   "metadata": {},
   "source": [
    "# Preprocess texts"
   ]
  },
  {
   "cell_type": "code",
   "execution_count": null,
   "id": "bd021883",
   "metadata": {},
   "outputs": [],
   "source": [
    "from nltk.tokenize import word_tokenize\n",
    "import re\n",
    "import spacy\n",
    "import nltk\n",
    "nlp = spacy.load('en_core_web_sm', disable=['parser', 'ner'])"
   ]
  },
  {
   "cell_type": "code",
   "execution_count": null,
   "id": "0b215d7d",
   "metadata": {},
   "outputs": [],
   "source": [
    "def preprocess_text(input_str):\n",
    "    words = word_tokenize(input_str)\n",
    "    words = [re.sub(r\"[^A-Za-z@]\", \"\", word) for word in words]\n",
    "    words = [re.sub(r\"\\S+com\", \"\", word) for word in words]\n",
    "    words = [re.sub(r\"\\S+@\\S+\", \"\", word) for word in words]\n",
    "    words = [word for word in words if word!=' ']\n",
    "\n",
    "    #import nltk stopwords\n",
    "    stopwords_nltk = nltk.corpus.stopwords.words('english')\n",
    "    \n",
    "    #import other lists of stopwords\n",
    "    with open('stopwords_en.txt', 'r') as f:\n",
    "        file = f.readlines()\n",
    "    stopwords = []\n",
    "    for word in file:\n",
    "        stopwords.append(word.replace('\\n', ''))\n",
    "\n",
    "    stopwords = stopwords + stopwords_nltk\n",
    "    stopwords = [s.lower() for s in stopwords]\n",
    "    \n",
    "    words = [token.lemma_ for token in nlp(' '.join(words)) if not token.is_punct]\n",
    "    words = [word.lower() for word in words if word.lower() not in stopwords]\n",
    "    \n",
    "    while ' ' in words: words.remove(' ')\n",
    "    return ' '.join(words)"
   ]
  },
  {
   "cell_type": "code",
   "execution_count": null,
   "id": "f1434121",
   "metadata": {},
   "outputs": [],
   "source": [
    "train_texts = []\n",
    "test_texts = []\n",
    "\n",
    "# remove the [:50] on a more powerful computer\n",
    "for text in trainSet['Text'].tolist()[:50]:\n",
    "    train_texts.append(preprocess_text(text))\n",
    "    \n",
    "for text in testSet['Text'].tolist()[:50]:\n",
    "    test_texts.append(preprocess_text(text))"
   ]
  },
  {
   "cell_type": "code",
   "execution_count": null,
   "id": "8c8ea5b9",
   "metadata": {},
   "outputs": [],
   "source": [
    "train_texts"
   ]
  },
  {
   "cell_type": "code",
   "execution_count": null,
   "id": "c0ef0b9b",
   "metadata": {},
   "outputs": [],
   "source": [
    "test_texts"
   ]
  },
  {
   "cell_type": "markdown",
   "id": "fe04913c",
   "metadata": {},
   "source": [
    "# Vectorise"
   ]
  },
  {
   "cell_type": "code",
   "execution_count": null,
   "id": "02eec579",
   "metadata": {},
   "outputs": [],
   "source": [
    "from sklearn.feature_extraction.text import CountVectorizer"
   ]
  },
  {
   "cell_type": "code",
   "execution_count": null,
   "id": "cc84d390",
   "metadata": {},
   "outputs": [],
   "source": [
    "vect = CountVectorizer()\n",
    "x_train_dtm = vect.fit_transform(train_texts)\n",
    "x_test_dtm = vect.transform(test_texts)"
   ]
  },
  {
   "cell_type": "code",
   "execution_count": null,
   "id": "d959df1c",
   "metadata": {},
   "outputs": [],
   "source": [
    "x_test_dtm"
   ]
  },
  {
   "cell_type": "code",
   "execution_count": null,
   "id": "806af03b",
   "metadata": {},
   "outputs": [],
   "source": [
    "x_train_dtm"
   ]
  },
  {
   "cell_type": "markdown",
   "id": "e13c79bf",
   "metadata": {},
   "source": [
    "# Build and evaluate model"
   ]
  },
  {
   "cell_type": "code",
   "execution_count": null,
   "id": "99aebe02",
   "metadata": {},
   "outputs": [],
   "source": [
    "from sklearn.naive_bayes import MultinomialNB\n",
    "nb = MultinomialNB()"
   ]
  },
  {
   "cell_type": "markdown",
   "id": "6e07f4e1",
   "metadata": {},
   "source": [
    "Build model"
   ]
  },
  {
   "cell_type": "code",
   "execution_count": null,
   "id": "14588059",
   "metadata": {},
   "outputs": [],
   "source": [
    "# train model using x_train_dtm\n",
    "%time nb.fit(x_train_dtm, trainSet.head(50).Score)"
   ]
  },
  {
   "cell_type": "code",
   "execution_count": null,
   "id": "70750c6b",
   "metadata": {},
   "outputs": [],
   "source": [
    "y_pred_class_nb = nb.predict(x_test_dtm)"
   ]
  },
  {
   "cell_type": "markdown",
   "id": "b9aeb8f0",
   "metadata": {},
   "source": [
    "Evaluate model"
   ]
  },
  {
   "cell_type": "code",
   "execution_count": null,
   "id": "63432c75",
   "metadata": {},
   "outputs": [],
   "source": [
    "from sklearn import metrics\n",
    "metrics.accuracy_score(testSet.head(50).Score, y_pred_class_nb)"
   ]
  },
  {
   "cell_type": "code",
   "execution_count": null,
   "id": "ff0239f8",
   "metadata": {},
   "outputs": [],
   "source": [
    "con_metrics_nb = metrics.confusion_matrix(testSet.head(50).Score, y_pred_class_nb)\n",
    "con_metrics_nb"
   ]
  },
  {
   "cell_type": "code",
   "execution_count": null,
   "id": "05bfe6c5",
   "metadata": {},
   "outputs": [],
   "source": [
    "import seaborn as sns\n",
    "import matplotlib.pyplot as plt\n",
    "sns.heatmap(con_metrics_nb, annot=True, fmt='d')\n",
    "plt.title('Confusion Matrix: Naive Bayes')\n",
    "plt.show()"
   ]
  },
  {
   "cell_type": "code",
   "execution_count": null,
   "id": "02404c5e",
   "metadata": {},
   "outputs": [],
   "source": [
    "# look at huggingface.com website\n",
    "pip install transformers"
   ]
  },
  {
   "cell_type": "code",
   "execution_count": null,
   "id": "116d7a7a",
   "metadata": {},
   "outputs": [],
   "source": [
    "from sklearn.metrics import classification_report\n",
    "print(classification_report(testSet.head(50).Score, y_pred_class_nb))"
   ]
  },
  {
   "cell_type": "code",
   "execution_count": null,
   "id": "ef8f52af",
   "metadata": {},
   "outputs": [],
   "source": [
    "auc_nb = metrics.roc_auc_score(testSet.head(50).Score, y_pred_class_nb)\n",
    "print(auc_nb)"
   ]
  },
  {
   "cell_type": "code",
   "execution_count": null,
   "id": "50c3730d",
   "metadata": {},
   "outputs": [],
   "source": [
    "y_pred_class_nb"
   ]
  },
  {
   "cell_type": "code",
   "execution_count": null,
   "id": "3a36d0b4",
   "metadata": {},
   "outputs": [],
   "source": [
    "reviews.tail(total_size-train_size)"
   ]
  },
  {
   "cell_type": "code",
   "execution_count": null,
   "id": "681ec9f9",
   "metadata": {},
   "outputs": [],
   "source": [
    "test_texts"
   ]
  },
  {
   "cell_type": "code",
   "execution_count": null,
   "id": "e29a7fae",
   "metadata": {},
   "outputs": [],
   "source": [
    "testSet.head(50).Score"
   ]
  },
  {
   "cell_type": "code",
   "execution_count": null,
   "id": "d0452bfc",
   "metadata": {},
   "outputs": [],
   "source": [
    "testSet"
   ]
  },
  {
   "cell_type": "code",
   "execution_count": null,
   "id": "5fbdd4a5",
   "metadata": {},
   "outputs": [],
   "source": []
  }
 ],
 "metadata": {
  "kernelspec": {
   "display_name": "Python 3 (ipykernel)",
   "language": "python",
   "name": "python3"
  },
  "language_info": {
   "codemirror_mode": {
    "name": "ipython",
    "version": 3
   },
   "file_extension": ".py",
   "mimetype": "text/x-python",
   "name": "python",
   "nbconvert_exporter": "python",
   "pygments_lexer": "ipython3",
   "version": "3.9.0"
  }
 },
 "nbformat": 4,
 "nbformat_minor": 5
}
