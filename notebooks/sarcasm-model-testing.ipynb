{
 "cells": [
  {
   "cell_type": "code",
   "execution_count": 1,
   "id": "7e140d15",
   "metadata": {},
   "outputs": [],
   "source": [
    "import pickle\n",
    "import re\n",
    "import pandas as pd\n",
    "import numpy as np\n",
    "from keras.models import load_model\n",
    "from keras.preprocessing.sequence import pad_sequences"
   ]
  },
  {
   "cell_type": "markdown",
   "id": "fdc9e8ec",
   "metadata": {},
   "source": [
    "Unseen sample text"
   ]
  },
  {
   "cell_type": "code",
   "execution_count": 2,
   "id": "865cb154",
   "metadata": {},
   "outputs": [],
   "source": [
    "raw_text = ['Best Movie for brain-deads!']"
   ]
  },
  {
   "cell_type": "code",
   "execution_count": 3,
   "id": "c08ac59d",
   "metadata": {},
   "outputs": [],
   "source": [
    "raw_text_processed = []\n",
    "for x in raw_text:\n",
    "    text = x.lower()\n",
    "    text = re.sub('[^a-zA-z0-9\\s]','',x)\n",
    "    raw_text_processed.append(text)"
   ]
  },
  {
   "cell_type": "markdown",
   "id": "af988e6f",
   "metadata": {},
   "source": [
    "# Model test"
   ]
  },
  {
   "cell_type": "code",
   "execution_count": 4,
   "id": "41a30931",
   "metadata": {},
   "outputs": [
    {
     "name": "stderr",
     "output_type": "stream",
     "text": [
      "2022-03-19 11:53:51.481167: I tensorflow/core/platform/cpu_feature_guard.cc:142] This TensorFlow binary is optimized with oneAPI Deep Neural Network Library (oneDNN) to use the following CPU instructions in performance-critical operations:  AVX2 FMA\n",
      "To enable them in other operations, rebuild TensorFlow with the appropriate compiler flags.\n"
     ]
    }
   ],
   "source": [
    "model = load_model('sarcasmdetector.h5')"
   ]
  },
  {
   "cell_type": "code",
   "execution_count": 5,
   "id": "36f99424",
   "metadata": {},
   "outputs": [],
   "source": [
    "max_words = 5000 # make the top list of words (common words)\n",
    "embedding_dim = 16\n",
    "max_len = 100\n",
    "trunc_type = 'post'\n",
    "padding_type = 'post'\n",
    "oov_tok = '<OOV>' # OOV = Out of Vocabulary"
   ]
  },
  {
   "cell_type": "code",
   "execution_count": 6,
   "id": "7693207b",
   "metadata": {},
   "outputs": [],
   "source": [
    "tokenizer = pickle.load(open('sarcasmtokeniser.p', 'rb'))"
   ]
  },
  {
   "cell_type": "code",
   "execution_count": 7,
   "id": "74a84b92",
   "metadata": {},
   "outputs": [
    {
     "name": "stderr",
     "output_type": "stream",
     "text": [
      "2022-03-19 11:53:52.476829: I tensorflow/compiler/mlir/mlir_graph_optimization_pass.cc:185] None of the MLIR Optimization Passes are enabled (registered 2)\n"
     ]
    },
    {
     "name": "stdout",
     "output_type": "stream",
     "text": [
      "[[0.7507591]] 0\n"
     ]
    }
   ],
   "source": [
    "seq = tokenizer.texts_to_sequences(raw_text_processed)\n",
    "padded = pad_sequences(seq, maxlen=max_len, padding=padding_type, truncating=trunc_type)\n",
    "pred = model.predict(padded)\n",
    "print(pred, np.argmax(pred))"
   ]
  }
 ],
 "metadata": {
  "kernelspec": {
   "display_name": "Python 3 (ipykernel)",
   "language": "python",
   "name": "python3"
  },
  "language_info": {
   "codemirror_mode": {
    "name": "ipython",
    "version": 3
   },
   "file_extension": ".py",
   "mimetype": "text/x-python",
   "name": "python",
   "nbconvert_exporter": "python",
   "pygments_lexer": "ipython3",
   "version": "3.9.0"
  }
 },
 "nbformat": 4,
 "nbformat_minor": 5
}
