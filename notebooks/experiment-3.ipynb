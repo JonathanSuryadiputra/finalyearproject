{
 "cells": [
  {
   "cell_type": "markdown",
   "id": "64322e47",
   "metadata": {},
   "source": [
    "# Load datasets"
   ]
  },
  {
   "cell_type": "code",
   "execution_count": 1,
   "id": "fd83ae68",
   "metadata": {},
   "outputs": [],
   "source": [
    "import pandas as pd"
   ]
  },
  {
   "cell_type": "code",
   "execution_count": 2,
   "id": "ff4f1d01",
   "metadata": {},
   "outputs": [
    {
     "data": {
      "text/html": [
       "<div>\n",
       "<style scoped>\n",
       "    .dataframe tbody tr th:only-of-type {\n",
       "        vertical-align: middle;\n",
       "    }\n",
       "\n",
       "    .dataframe tbody tr th {\n",
       "        vertical-align: top;\n",
       "    }\n",
       "\n",
       "    .dataframe thead th {\n",
       "        text-align: right;\n",
       "    }\n",
       "</style>\n",
       "<table border=\"1\" class=\"dataframe\">\n",
       "  <thead>\n",
       "    <tr style=\"text-align: right;\">\n",
       "      <th></th>\n",
       "      <th>Score</th>\n",
       "      <th>Summary</th>\n",
       "      <th>Text</th>\n",
       "    </tr>\n",
       "  </thead>\n",
       "  <tbody>\n",
       "    <tr>\n",
       "      <th>0</th>\n",
       "      <td>3</td>\n",
       "      <td>more like funchuck</td>\n",
       "      <td>Gave this to my dad for a gag gift after direc...</td>\n",
       "    </tr>\n",
       "    <tr>\n",
       "      <th>1</th>\n",
       "      <td>5</td>\n",
       "      <td>Inspiring</td>\n",
       "      <td>I hope a lot of people hear this cd. We need m...</td>\n",
       "    </tr>\n",
       "    <tr>\n",
       "      <th>2</th>\n",
       "      <td>5</td>\n",
       "      <td>The best soundtrack ever to anything.</td>\n",
       "      <td>I'm reading a lot of reviews saying that this ...</td>\n",
       "    </tr>\n",
       "    <tr>\n",
       "      <th>3</th>\n",
       "      <td>4</td>\n",
       "      <td>Chrono Cross OST</td>\n",
       "      <td>The music of Yasunori Misuda is without questi...</td>\n",
       "    </tr>\n",
       "    <tr>\n",
       "      <th>4</th>\n",
       "      <td>5</td>\n",
       "      <td>Too good to be true</td>\n",
       "      <td>Probably the greatest soundtrack in history! U...</td>\n",
       "    </tr>\n",
       "    <tr>\n",
       "      <th>5</th>\n",
       "      <td>5</td>\n",
       "      <td>There's a reason for the price</td>\n",
       "      <td>There's a reason this CD is so expensive, even...</td>\n",
       "    </tr>\n",
       "    <tr>\n",
       "      <th>6</th>\n",
       "      <td>1</td>\n",
       "      <td>Buyer beware</td>\n",
       "      <td>This is a self-published book, and if you want...</td>\n",
       "    </tr>\n",
       "    <tr>\n",
       "      <th>7</th>\n",
       "      <td>4</td>\n",
       "      <td>Errors, but great story</td>\n",
       "      <td>I was a dissapointed to see errors on the back...</td>\n",
       "    </tr>\n",
       "    <tr>\n",
       "      <th>8</th>\n",
       "      <td>1</td>\n",
       "      <td>The Worst!</td>\n",
       "      <td>A complete waste of time. Typographical errors...</td>\n",
       "    </tr>\n",
       "    <tr>\n",
       "      <th>9</th>\n",
       "      <td>1</td>\n",
       "      <td>Oh please</td>\n",
       "      <td>I guess you have to be a romance novel lover f...</td>\n",
       "    </tr>\n",
       "  </tbody>\n",
       "</table>\n",
       "</div>"
      ],
      "text/plain": [
       "   Score                                Summary  \\\n",
       "0      3                     more like funchuck   \n",
       "1      5                              Inspiring   \n",
       "2      5  The best soundtrack ever to anything.   \n",
       "3      4                       Chrono Cross OST   \n",
       "4      5                    Too good to be true   \n",
       "5      5         There's a reason for the price   \n",
       "6      1                           Buyer beware   \n",
       "7      4                Errors, but great story   \n",
       "8      1                             The Worst!   \n",
       "9      1                              Oh please   \n",
       "\n",
       "                                                Text  \n",
       "0  Gave this to my dad for a gag gift after direc...  \n",
       "1  I hope a lot of people hear this cd. We need m...  \n",
       "2  I'm reading a lot of reviews saying that this ...  \n",
       "3  The music of Yasunori Misuda is without questi...  \n",
       "4  Probably the greatest soundtrack in history! U...  \n",
       "5  There's a reason this CD is so expensive, even...  \n",
       "6  This is a self-published book, and if you want...  \n",
       "7  I was a dissapointed to see errors on the back...  \n",
       "8  A complete waste of time. Typographical errors...  \n",
       "9  I guess you have to be a romance novel lover f...  "
      ]
     },
     "execution_count": 2,
     "metadata": {},
     "output_type": "execute_result"
    }
   ],
   "source": [
    "train_set = pd.read_csv('amazon_train.csv')\n",
    "train_set.head(10)"
   ]
  },
  {
   "cell_type": "code",
   "execution_count": 3,
   "id": "1ddfe423",
   "metadata": {},
   "outputs": [
    {
     "data": {
      "text/plain": [
       "3    600000\n",
       "5    600000\n",
       "4    600000\n",
       "1    600000\n",
       "2    600000\n",
       "Name: Score, dtype: int64"
      ]
     },
     "execution_count": 3,
     "metadata": {},
     "output_type": "execute_result"
    }
   ],
   "source": [
    "train_set.Score.value_counts()"
   ]
  },
  {
   "cell_type": "code",
   "execution_count": 4,
   "id": "4f7bd62e",
   "metadata": {},
   "outputs": [
    {
     "data": {
      "text/plain": [
       "3000000"
      ]
     },
     "execution_count": 4,
     "metadata": {},
     "output_type": "execute_result"
    }
   ],
   "source": [
    "len(train_set)"
   ]
  },
  {
   "cell_type": "code",
   "execution_count": 5,
   "id": "734a62f3",
   "metadata": {},
   "outputs": [
    {
     "data": {
      "text/html": [
       "<div>\n",
       "<style scoped>\n",
       "    .dataframe tbody tr th:only-of-type {\n",
       "        vertical-align: middle;\n",
       "    }\n",
       "\n",
       "    .dataframe tbody tr th {\n",
       "        vertical-align: top;\n",
       "    }\n",
       "\n",
       "    .dataframe thead th {\n",
       "        text-align: right;\n",
       "    }\n",
       "</style>\n",
       "<table border=\"1\" class=\"dataframe\">\n",
       "  <thead>\n",
       "    <tr style=\"text-align: right;\">\n",
       "      <th></th>\n",
       "      <th>Score</th>\n",
       "      <th>Summary</th>\n",
       "      <th>Text</th>\n",
       "    </tr>\n",
       "  </thead>\n",
       "  <tbody>\n",
       "    <tr>\n",
       "      <th>2999990</th>\n",
       "      <td>5</td>\n",
       "      <td>Tyler Hilton is the best!</td>\n",
       "      <td>Tyler Hilton's EP may only have a couple songs...</td>\n",
       "    </tr>\n",
       "    <tr>\n",
       "      <th>2999991</th>\n",
       "      <td>1</td>\n",
       "      <td>What A Slap In The Face To Masami Ueda</td>\n",
       "      <td>Do NOT buy this cd. Ever. This was probably ju...</td>\n",
       "    </tr>\n",
       "    <tr>\n",
       "      <th>2999992</th>\n",
       "      <td>2</td>\n",
       "      <td>Too simplistic</td>\n",
       "      <td>While Mr. Harrison makes some extremely valid ...</td>\n",
       "    </tr>\n",
       "    <tr>\n",
       "      <th>2999993</th>\n",
       "      <td>5</td>\n",
       "      <td>My favorite for 30 years</td>\n",
       "      <td>I had the amazing good fortune to be acquainte...</td>\n",
       "    </tr>\n",
       "    <tr>\n",
       "      <th>2999994</th>\n",
       "      <td>3</td>\n",
       "      <td>great features but beware of difficulty cleaning</td>\n",
       "      <td>This high chair has some great features - stor...</td>\n",
       "    </tr>\n",
       "    <tr>\n",
       "      <th>2999995</th>\n",
       "      <td>1</td>\n",
       "      <td>Don't do it!!</td>\n",
       "      <td>The high chair looks great when it first comes...</td>\n",
       "    </tr>\n",
       "    <tr>\n",
       "      <th>2999996</th>\n",
       "      <td>2</td>\n",
       "      <td>Looks nice, low functionality</td>\n",
       "      <td>I have used this highchair for 2 kids now and ...</td>\n",
       "    </tr>\n",
       "    <tr>\n",
       "      <th>2999997</th>\n",
       "      <td>2</td>\n",
       "      <td>compact, but hard to clean</td>\n",
       "      <td>We have a small house, and really wanted two o...</td>\n",
       "    </tr>\n",
       "    <tr>\n",
       "      <th>2999998</th>\n",
       "      <td>3</td>\n",
       "      <td>Hard to clean!</td>\n",
       "      <td>I agree with everyone else who says this chair...</td>\n",
       "    </tr>\n",
       "    <tr>\n",
       "      <th>2999999</th>\n",
       "      <td>1</td>\n",
       "      <td>what is it saying?</td>\n",
       "      <td>not sure what this book is supposed to be. It ...</td>\n",
       "    </tr>\n",
       "  </tbody>\n",
       "</table>\n",
       "</div>"
      ],
      "text/plain": [
       "         Score                                           Summary  \\\n",
       "2999990      5                         Tyler Hilton is the best!   \n",
       "2999991      1            What A Slap In The Face To Masami Ueda   \n",
       "2999992      2                                    Too simplistic   \n",
       "2999993      5                          My favorite for 30 years   \n",
       "2999994      3  great features but beware of difficulty cleaning   \n",
       "2999995      1                                     Don't do it!!   \n",
       "2999996      2                     Looks nice, low functionality   \n",
       "2999997      2                        compact, but hard to clean   \n",
       "2999998      3                                    Hard to clean!   \n",
       "2999999      1                                what is it saying?   \n",
       "\n",
       "                                                      Text  \n",
       "2999990  Tyler Hilton's EP may only have a couple songs...  \n",
       "2999991  Do NOT buy this cd. Ever. This was probably ju...  \n",
       "2999992  While Mr. Harrison makes some extremely valid ...  \n",
       "2999993  I had the amazing good fortune to be acquainte...  \n",
       "2999994  This high chair has some great features - stor...  \n",
       "2999995  The high chair looks great when it first comes...  \n",
       "2999996  I have used this highchair for 2 kids now and ...  \n",
       "2999997  We have a small house, and really wanted two o...  \n",
       "2999998  I agree with everyone else who says this chair...  \n",
       "2999999  not sure what this book is supposed to be. It ...  "
      ]
     },
     "execution_count": 5,
     "metadata": {},
     "output_type": "execute_result"
    }
   ],
   "source": [
    "train_set.tail(10)"
   ]
  },
  {
   "cell_type": "code",
   "execution_count": 6,
   "id": "3a78e568",
   "metadata": {},
   "outputs": [
    {
     "data": {
      "text/html": [
       "<div>\n",
       "<style scoped>\n",
       "    .dataframe tbody tr th:only-of-type {\n",
       "        vertical-align: middle;\n",
       "    }\n",
       "\n",
       "    .dataframe tbody tr th {\n",
       "        vertical-align: top;\n",
       "    }\n",
       "\n",
       "    .dataframe thead th {\n",
       "        text-align: right;\n",
       "    }\n",
       "</style>\n",
       "<table border=\"1\" class=\"dataframe\">\n",
       "  <thead>\n",
       "    <tr style=\"text-align: right;\">\n",
       "      <th></th>\n",
       "      <th>Score</th>\n",
       "      <th>Summary</th>\n",
       "      <th>Text</th>\n",
       "    </tr>\n",
       "  </thead>\n",
       "  <tbody>\n",
       "    <tr>\n",
       "      <th>0</th>\n",
       "      <td>1</td>\n",
       "      <td>mens ultrasheer</td>\n",
       "      <td>This model may be ok for sedentary types, but ...</td>\n",
       "    </tr>\n",
       "    <tr>\n",
       "      <th>1</th>\n",
       "      <td>4</td>\n",
       "      <td>Surprisingly delightful</td>\n",
       "      <td>This is a fast read filled with unexpected hum...</td>\n",
       "    </tr>\n",
       "    <tr>\n",
       "      <th>2</th>\n",
       "      <td>2</td>\n",
       "      <td>Works, but not as advertised</td>\n",
       "      <td>I bought one of these chargers..the instructio...</td>\n",
       "    </tr>\n",
       "    <tr>\n",
       "      <th>3</th>\n",
       "      <td>2</td>\n",
       "      <td>Oh dear</td>\n",
       "      <td>I was excited to find a book ostensibly about ...</td>\n",
       "    </tr>\n",
       "    <tr>\n",
       "      <th>4</th>\n",
       "      <td>2</td>\n",
       "      <td>Incorrect disc!</td>\n",
       "      <td>I am a big JVC fan, but I do not like this mod...</td>\n",
       "    </tr>\n",
       "    <tr>\n",
       "      <th>5</th>\n",
       "      <td>2</td>\n",
       "      <td>Incorrect Disc</td>\n",
       "      <td>I love the style of this, but after a couple y...</td>\n",
       "    </tr>\n",
       "    <tr>\n",
       "      <th>6</th>\n",
       "      <td>2</td>\n",
       "      <td>DVD menu select problems</td>\n",
       "      <td>I cannot scroll through a DVD menu that is set...</td>\n",
       "    </tr>\n",
       "    <tr>\n",
       "      <th>7</th>\n",
       "      <td>3</td>\n",
       "      <td>My 2 y/o grandson loves it!!</td>\n",
       "      <td>This movie with all of its animals really keep...</td>\n",
       "    </tr>\n",
       "    <tr>\n",
       "      <th>8</th>\n",
       "      <td>5</td>\n",
       "      <td>A Cookbook Every Baker Should Own</td>\n",
       "      <td>I found a copy of this cookbook at a local use...</td>\n",
       "    </tr>\n",
       "    <tr>\n",
       "      <th>9</th>\n",
       "      <td>3</td>\n",
       "      <td>good basic</td>\n",
       "      <td>The book is a basic \"how to\" book for using so...</td>\n",
       "    </tr>\n",
       "  </tbody>\n",
       "</table>\n",
       "</div>"
      ],
      "text/plain": [
       "   Score                            Summary  \\\n",
       "0      1                    mens ultrasheer   \n",
       "1      4            Surprisingly delightful   \n",
       "2      2       Works, but not as advertised   \n",
       "3      2                            Oh dear   \n",
       "4      2                    Incorrect disc!   \n",
       "5      2                     Incorrect Disc   \n",
       "6      2           DVD menu select problems   \n",
       "7      3       My 2 y/o grandson loves it!!   \n",
       "8      5  A Cookbook Every Baker Should Own   \n",
       "9      3                         good basic   \n",
       "\n",
       "                                                Text  \n",
       "0  This model may be ok for sedentary types, but ...  \n",
       "1  This is a fast read filled with unexpected hum...  \n",
       "2  I bought one of these chargers..the instructio...  \n",
       "3  I was excited to find a book ostensibly about ...  \n",
       "4  I am a big JVC fan, but I do not like this mod...  \n",
       "5  I love the style of this, but after a couple y...  \n",
       "6  I cannot scroll through a DVD menu that is set...  \n",
       "7  This movie with all of its animals really keep...  \n",
       "8  I found a copy of this cookbook at a local use...  \n",
       "9  The book is a basic \"how to\" book for using so...  "
      ]
     },
     "execution_count": 6,
     "metadata": {},
     "output_type": "execute_result"
    }
   ],
   "source": [
    "test_set = pd.read_csv('amazon_test.csv')\n",
    "test_set.head(10)"
   ]
  },
  {
   "cell_type": "code",
   "execution_count": 7,
   "id": "43c94a0d",
   "metadata": {},
   "outputs": [
    {
     "data": {
      "text/plain": [
       "1    130000\n",
       "4    130000\n",
       "2    130000\n",
       "3    130000\n",
       "5    130000\n",
       "Name: Score, dtype: int64"
      ]
     },
     "execution_count": 7,
     "metadata": {},
     "output_type": "execute_result"
    }
   ],
   "source": [
    "test_set.Score.value_counts()"
   ]
  },
  {
   "cell_type": "code",
   "execution_count": 8,
   "id": "81ee6573",
   "metadata": {},
   "outputs": [
    {
     "data": {
      "text/plain": [
       "650000"
      ]
     },
     "execution_count": 8,
     "metadata": {},
     "output_type": "execute_result"
    }
   ],
   "source": [
    "len(test_set)"
   ]
  },
  {
   "cell_type": "code",
   "execution_count": 9,
   "id": "f9c9c757",
   "metadata": {},
   "outputs": [
    {
     "data": {
      "text/html": [
       "<div>\n",
       "<style scoped>\n",
       "    .dataframe tbody tr th:only-of-type {\n",
       "        vertical-align: middle;\n",
       "    }\n",
       "\n",
       "    .dataframe tbody tr th {\n",
       "        vertical-align: top;\n",
       "    }\n",
       "\n",
       "    .dataframe thead th {\n",
       "        text-align: right;\n",
       "    }\n",
       "</style>\n",
       "<table border=\"1\" class=\"dataframe\">\n",
       "  <thead>\n",
       "    <tr style=\"text-align: right;\">\n",
       "      <th></th>\n",
       "      <th>Score</th>\n",
       "      <th>Summary</th>\n",
       "      <th>Text</th>\n",
       "    </tr>\n",
       "  </thead>\n",
       "  <tbody>\n",
       "    <tr>\n",
       "      <th>649990</th>\n",
       "      <td>3</td>\n",
       "      <td>works fine but no good surprises</td>\n",
       "      <td>I was encouraged to buy a webcam by my stepdau...</td>\n",
       "    </tr>\n",
       "    <tr>\n",
       "      <th>649991</th>\n",
       "      <td>4</td>\n",
       "      <td>:)</td>\n",
       "      <td>i loved the piercings but i only got 18 out 20...</td>\n",
       "    </tr>\n",
       "    <tr>\n",
       "      <th>649992</th>\n",
       "      <td>5</td>\n",
       "      <td>The CD with the only known recording of Aleist...</td>\n",
       "      <td>\"Aleister Crowley - The Great Beast Speaks\" is...</td>\n",
       "    </tr>\n",
       "    <tr>\n",
       "      <th>649993</th>\n",
       "      <td>3</td>\n",
       "      <td>Terrific Musicians, poor writers and composers</td>\n",
       "      <td>As wonderful as it is to hear these fine music...</td>\n",
       "    </tr>\n",
       "    <tr>\n",
       "      <th>649994</th>\n",
       "      <td>5</td>\n",
       "      <td>New Songs Right on Target</td>\n",
       "      <td>I bought this cd for my husband and he loves i...</td>\n",
       "    </tr>\n",
       "    <tr>\n",
       "      <th>649995</th>\n",
       "      <td>5</td>\n",
       "      <td>Pretty Cool!</td>\n",
       "      <td>We got it for our mom's birthday. She LOVES it...</td>\n",
       "    </tr>\n",
       "    <tr>\n",
       "      <th>649996</th>\n",
       "      <td>5</td>\n",
       "      <td>great cd</td>\n",
       "      <td>this cd is very good. i especially love \"cats ...</td>\n",
       "    </tr>\n",
       "    <tr>\n",
       "      <th>649997</th>\n",
       "      <td>2</td>\n",
       "      <td>An interesting look into Boston's comedy clubs</td>\n",
       "      <td>This was a good documentary on the history of ...</td>\n",
       "    </tr>\n",
       "    <tr>\n",
       "      <th>649998</th>\n",
       "      <td>5</td>\n",
       "      <td>Du vol...pour les cowboys!</td>\n",
       "      <td>Avez-vous déjà vu un CD double et un DVD avec ...</td>\n",
       "    </tr>\n",
       "    <tr>\n",
       "      <th>649999</th>\n",
       "      <td>4</td>\n",
       "      <td>A Companion Read To GUNS, GERMS, AND STEEL</td>\n",
       "      <td>If you like books that offer explanations for ...</td>\n",
       "    </tr>\n",
       "  </tbody>\n",
       "</table>\n",
       "</div>"
      ],
      "text/plain": [
       "        Score                                            Summary  \\\n",
       "649990      3                   works fine but no good surprises   \n",
       "649991      4                                                 :)   \n",
       "649992      5  The CD with the only known recording of Aleist...   \n",
       "649993      3     Terrific Musicians, poor writers and composers   \n",
       "649994      5                          New Songs Right on Target   \n",
       "649995      5                                       Pretty Cool!   \n",
       "649996      5                                           great cd   \n",
       "649997      2     An interesting look into Boston's comedy clubs   \n",
       "649998      5                         Du vol...pour les cowboys!   \n",
       "649999      4         A Companion Read To GUNS, GERMS, AND STEEL   \n",
       "\n",
       "                                                     Text  \n",
       "649990  I was encouraged to buy a webcam by my stepdau...  \n",
       "649991  i loved the piercings but i only got 18 out 20...  \n",
       "649992  \"Aleister Crowley - The Great Beast Speaks\" is...  \n",
       "649993  As wonderful as it is to hear these fine music...  \n",
       "649994  I bought this cd for my husband and he loves i...  \n",
       "649995  We got it for our mom's birthday. She LOVES it...  \n",
       "649996  this cd is very good. i especially love \"cats ...  \n",
       "649997  This was a good documentary on the history of ...  \n",
       "649998  Avez-vous déjà vu un CD double et un DVD avec ...  \n",
       "649999  If you like books that offer explanations for ...  "
      ]
     },
     "execution_count": 9,
     "metadata": {},
     "output_type": "execute_result"
    }
   ],
   "source": [
    "test_set.tail(10)"
   ]
  },
  {
   "cell_type": "markdown",
   "id": "9ee4e92b",
   "metadata": {},
   "source": [
    "# Preprocess texts"
   ]
  },
  {
   "cell_type": "code",
   "execution_count": 10,
   "id": "a9737fb1",
   "metadata": {},
   "outputs": [],
   "source": [
    "from nltk.tokenize import word_tokenize\n",
    "import re\n",
    "import spacy\n",
    "import nltk"
   ]
  },
  {
   "cell_type": "code",
   "execution_count": 11,
   "id": "c24032de",
   "metadata": {},
   "outputs": [],
   "source": [
    "nlp = spacy.load('en_core_web_sm', disable=['parser', 'ner'])\n",
    "#nltk.download('punkt') #remove hashtag on Google Colab\n",
    "#nltk.download('stopwords') #remove hashtag on Google Colab"
   ]
  },
  {
   "cell_type": "code",
   "execution_count": 12,
   "id": "05331eb1",
   "metadata": {},
   "outputs": [],
   "source": [
    "def preprocess_text(input_str):\n",
    "    words = word_tokenize(input_str)\n",
    "    words = [re.sub(r\"[^A-Za-z@]\", \"\", word) for word in words]\n",
    "    words = [re.sub(r\"\\S+com\", \"\", word) for word in words]\n",
    "    words = [re.sub(r\"\\S+@\\S+\", \"\", word) for word in words]\n",
    "    words = [word for word in words if word!=' ']\n",
    "\n",
    "    #import nltk stopwords\n",
    "    stopwords_nltk = nltk.corpus.stopwords.words('english')\n",
    "    \n",
    "    #import other lists of stopwords\n",
    "    with open('stopwords_en.txt', 'r') as f:\n",
    "        file = f.readlines()\n",
    "    stopwords = []\n",
    "    for word in file:\n",
    "        stopwords.append(word.replace('\\n', ''))\n",
    "\n",
    "    stopwords = stopwords + stopwords_nltk\n",
    "    stopwords = [s.lower() for s in stopwords]\n",
    "    \n",
    "    words = [token.lemma_ for token in nlp(' '.join(words)) if not token.is_punct]\n",
    "    words = [word.lower() for word in words if word.lower() not in stopwords]\n",
    "    \n",
    "    returnList = []\n",
    "    for word in words:\n",
    "        if ' ' not in word:\n",
    "            returnList.append(word)\n",
    "    \n",
    "    return ' '.join(returnList)"
   ]
  },
  {
   "cell_type": "code",
   "execution_count": 13,
   "id": "2fa08bc6",
   "metadata": {},
   "outputs": [],
   "source": [
    "train_texts = []\n",
    "test_texts = []\n",
    "\n",
    "# remove the [:50] on a more powerful computer\n",
    "for text in train_set['Text'].tolist()[:70]:\n",
    "    train_texts.append(preprocess_text(text))\n",
    "    \n",
    "for text in test_set['Text'].tolist()[:30]:\n",
    "    test_texts.append(preprocess_text(text))"
   ]
  },
  {
   "cell_type": "code",
   "execution_count": 14,
   "id": "098bb1b6",
   "metadata": {},
   "outputs": [
    {
     "data": {
      "text/plain": [
       "['give dad gag gift direct nunsense reall kick',\n",
       " 'hope lot people hear cd strong positive vibe great vocal fresh tune crosscultural happiness blue gut pop sound catchy mature',\n",
       " 'read lot review good game soundtrack figure write review disagree bit opinino yasunori mitsuda ultimate masterpiece music timeless listen year beauty simply refuse fadethe price tag pretty staggering buy cd money feel worth penny',\n",
       " 'music yasunori misuda question close great nobuo uematsuchrono cross ost wonderful creation fill rich orchestra synthesized sound ambiance music major factor time uplifting vigorous favourite track include scar leave time girl steal stars world',\n",
       " 'great soundtrack history play game enjoyable work hard soundtrack spend money worth penny ost amazing track dance delight scars leave time buy',\n",
       " 'reason cd expensive version importsome good music listen track minute day',\n",
       " 'selfpublished book read paragraph star review write ms haddon family friend imagine read thing spend evening book friend hysteric read bit piece bad enter kind bad book contest amazon sell kind thing offer grade term paper kill mockingbird book ms haddon hear mood send book joke stay',\n",
       " 'dissapointed error back cover pay book read love put read book hour buy read sad give interesting point view church today spend time fault enjoy belovedsincerly jaylynn',\n",
       " 'complete waste time typographical error poor grammar totally pathetic plot add absolutely embarrassed author disappointed pay book',\n",
       " 'guess romance lover discerning beware absolute drivel figure trouble typo prominently feature back cover page book remove doubt wait miss point quick reread beginning make clear intentional churning overheated prose satiric purpose phew glad waste',\n",
       " 'feel write waste money book write grader poor grammatical skill age reviewer point misspelling cover chapter mention lean house distract poor writing weak plot decide read pencil hand mark horrible grammar spelling waste money good review write author relative put faith review',\n",
       " 'hear folk make em anymore talk sea cool story young cuban girl search idenity stumble coastal resort kitchen gig zen motorcycle maintenance man hysterical italian chef latino fireballe handed pitcher play team sponsor resort owner case find honest comical emotional interaction sizzle roster player perfect mix special effect salsa sound flashback sea big star',\n",
       " 'excellent stocking long shift foot tight loose garment integrity long package state proper care',\n",
       " 'week recieve pair stocking order arrive box tag jobst brand stocking sun bronze pair fit quality pair buy actual compression store',\n",
       " 'size small end chart put sheer guess buy item internet store check',\n",
       " 'full intrigue good overview court james key player provide good general history fact case',\n",
       " 'scratch insect dropping random pixelation combine muddy light vague image resolution cue packaging straight street corner bootleg dealerif good condition film copy defining visual film crystal clear lighting contrast black white surround countryside home scene set early morning ground mist haze memory event bridge water bright clear immediatehere dull dark cloud remember timbre enunciation captain command visualsafter hard award win critically acclaim film good presentation youtube dvd standard mm public library reeljust amazon',\n",
       " 'steven wardell book pure delight mend itto friend age rise sons daughters learn thatjapanese young people preserve country tradition respect elder create identity japan generation young people bombard excess western culture clothing fad rock group culture shopping develop healthy hybrid retain firm foundation good ando family member wonderful memorable people stevern wardell write poignantly life hope',\n",
       " 'hear song listen song blue angel lanna mama hair rise neckroy trully amazing singer talent find day',\n",
       " 'write harsh review base hear couple track album hear track album back fact buy itthe album good money good liner note good musicwell worth money roy orbison fan',\n",
       " 'term bootleg title recording cd slightly disappointing sound sound betterhaving great roy orbison live concert sound good money cd set good liner note',\n",
       " 'charger year charge aa battery fine huge problem secure small aaa battery charge small battery flip button positive end beginning aaa battery pop hold problem flip mechanism loose horizontal pressure push button back duct tape segment crayon apply crayon button wrap tape painful',\n",
       " 'greeting kodak charger nimh mah battery battery charge minute battery charge minute problem amazon carry good bye',\n",
       " 'pay perfect gps drain cheap battery hourbtw charger battery',\n",
       " 'excellent product buy digital camera great battery life charge charger handy carry',\n",
       " 'buy charger jul work design nice convenient year battery hold charge alkaline disposable charger battery staying power',\n",
       " 'charge short time nimh battery cycle time hold full charge charge time row chargedischarge cycle battery reach high charge level time recharge finally reach rate capacity problem pleasantly surprised',\n",
       " 'awesome read online dramatica armando dramatica lose eventually guide point call plot plot book make happy boost effort work dramatica book ten year highly mend native speaker german mother tongue make dramatica software book worth cent pay euro hard roundabout year fail dramatica book save ass save make happy armando germany cologne',\n",
       " 'read review item purchase christmas gift brother lot decide wife glad pretty easy set playback excellent vcr dvd mode remote operate jvc tv great choice quality combination player trust electronic',\n",
       " 'vcrdvd early christmas present decide join rest world dvdland vhs movie base review price jvc tv choice agree easy setup bit awkward work tvvhsdvd selection option hang ittwo comment intuitive pretty complicated button remote technicallyminded rely heavily howto manual set vcr timer awkward enter start end time scroll miss complaint good product',\n",
       " 'player work great fairly easy set display ugly orange lettering remind alarm clock displays minute lack universal remote drawback finally disappointed learn record vcr sp hr ep hour speed standard lp mode tape movie fit tape stuff trivial cent',\n",
       " 'begin incorrect disc problem read vcr work hte dvd side useless understand dvd player quit year sign bad quality give jvc stick sony give brand shot',\n",
       " 'machine primarily dvd mp playback turn dvd player mp capability select random playing track replace yearold cd player subpar vcr machine happy component input back dvd playback awesome vcr playback fine tivo mend versatile player good quality',\n",
       " 'fine unit dvd playback lot great feature experience vcr side leave lot desire machine saddle subpar tuner make noisy color smear vhs recording playback factory prerecord great ep recording fall quality wise sp frequency response speed pretty atrocious jvc brag inventor vhs shame',\n",
       " 'concept digital compression find book easy read understand student engineer ee',\n",
       " 'book print demand style book manifest case poor quality hardcover text laughably bad image end snapshot black white tv screen bothersome muddy text price bit steep poor quality print actual content comprehensive author gray cocreator commonplace lbg linde buzo gray vq algorithm fortunately quality content shine terrible printing',\n",
       " 'complain print quality calculus book theoretical book springer book nice full color barney image technical theoretical stuff opinion problem printing clear quality monochromatic printingwith respect content book vector scalar quantization signal compression great write doctoral thesis gray respected authority field',\n",
       " 'author picture unrelated content text repeatedly print cover major topic gif graphic file compression positive side wellwritten organize multiple equation chapter descriptive mathematical proof',\n",
       " 'plot ridiculous read script make film mountain lion break trailer car notice mountain lion capture put jail cell real utterly completely stupid',\n",
       " 'watch episode fairly clear central character enjoy fitting bleak end stop season episode prefer romantic comedy view skip season episode final act',\n",
       " 'love show episode season dvd show kind annoying good episode happen end season hope bbc release dvd episode enjoyable',\n",
       " 'firstly enjoy format tone book author address reader feel impart insider secret book promise reveal start research law school requirement admission book tremendous homework edge admission mend topicspecific book book write personal statment book gear specifically lsat preparation powerscore book helpful website great advice gear aid individual write letter mendation entire affair book clarify requirement',\n",
       " 'work apply law school great guide utilize cut great score lsat part equation law school',\n",
       " 'casually apply law school read book waste money',\n",
       " 'great project kid cute attractive marker write hanger wipe disappointing kid great idea set marker work',\n",
       " 'hell happen moral aspect modern american culture book lucid argue explanation simple fact totally focused individual completely ignore mock personal public responsibility final response indictment robert ringer good seller great time disgust boorish state american medium politic discourse general clear head substantial challenge lie americans human great book',\n",
       " 'piper passion glory christ contagious watch video multiple time glean time amazing present meaty material youth group transfix entire timei care youth interview understand give format original presentation man group enjoy material great discussionsi mend humility genuine concern piper audience refreshing famous christian leader today',\n",
       " 'line work mac os system disk windows order mac',\n",
       " 'love thunderbird anderson productions love cd collection song inspire fab show today long live gerry',\n",
       " 'recipe book great waffle pretty good biscuit enjoyable wheat flour mix recipesi enjoy writing style anecdote hope recipeson positive side author make reader feel sourdough difficult mysterious make attainable novice',\n",
       " 'purchase book base mendation create sourdough start book detailed informative enjoy create sourdough start amazing leave sourdough start counter year strong flavor',\n",
       " 'experience fm amazon dvd player rattle pretty loudly put dvd picture quality great screen horizontal line middle short time reviewer dead remote layout make sense poor human engineering imo bring back store refund model emerson wm hesitant buy',\n",
       " 'buy wife birthday toreturn dvd palyer work return repalcement dvd player fail work piece junk',\n",
       " 'tv set capable recall function flash back channel tv give remote control tv recall function buy sony universal remote recall button learn tv set factory capability flashback big deal user find annoying',\n",
       " 'recieve item fast time perfectely happy shipper sylvania lcd tv excellent buy work perfect business shipper anytime',\n",
       " 'dk travel guide good travel guide produce high quality illustrate encyclopedia country city represent invaluable guide disadvantage bit heavy side quality printing extensive range color photo offset',\n",
       " 'eyewitness travel guides general provide lot pretty picture nice handy practical guide trip rick steves lonely planet fodor frommer series travel guide guide provide info logistic stay eat transportation eyewitness dk publishing make great coffee table book book mend rick steve good europe lonely planet europe shoestring guide',\n",
       " 'buy lonely planet lonely planet book full picture give info end buy indiv city guide scratch surface',\n",
       " 'condensed abridge book cover europe give highlight country western europe good book plan trip spend day place dk comprehensive guide country region city positive side book cover country dk guide side eastern european country cover poland czech republic hungary book heavy book worth money buffet tour europe france italy',\n",
       " 'listen el duke access shower gimmick orchestrate',\n",
       " 'chapter book lock reader page arrow nock string thought feeling express howard hill full draw adventure put saddle atop mountain eye archer heart race reaccounting hunt archer traditional caliber flight arrow loosed hit intended mark bond fellow hunter express give proper account knowledge wisdom pass campfire experienced hunter fact howard hill plishe thing bow begin find difficult associate underwater adventure',\n",
       " 'quarrel book copy long time purchase book understanding sign copy copy receive autograph disappointment advertise autographed copy substitute leave doubt regard furture purchase clarification elmer kurrus',\n",
       " 'text plate markedly inferior previous edition ahead time purchase volume',\n",
       " 'screen arrive cardboard box pretty beat screen lightweight cheesy finish wear entire top screen solid brass expect decent distance price pay',\n",
       " 'purchase screen week noticeable scrape top box gigantic plenty packaging material screen package loosely bottom small box scraping begin ship decide trouble exchange reviewer damage risk damage screen damage nice screen',\n",
       " 'order shoe replace previous pair rip sole clark make shoe anymore order amazon sadly pair rip place month son buy similar pair sperry hold',\n",
       " 'software arwarde parent choice arward software creativity girl imspire art time',\n",
       " 'good game short make enjoyable hope beenoverall good game long storyline',\n",
       " 'game daughter love finish quickly game difficult educational occasionally play beautiful game write review game freeze update video card driver work perfectly hope',\n",
       " 'rapunzel game favorite game fun wait long time move place someplace click arrow game fun bc click arrow mend buy game play princess fashion boutique']"
      ]
     },
     "execution_count": 14,
     "metadata": {},
     "output_type": "execute_result"
    }
   ],
   "source": [
    "train_texts"
   ]
  },
  {
   "cell_type": "code",
   "execution_count": 15,
   "id": "db720933",
   "metadata": {},
   "outputs": [
    {
     "data": {
      "text/plain": [
       "['model sedentary type active alot job consistently find stocking roll ankle good solution standard compression stock stock excellent support stay give pair tear struggle pull time good riddancebad investment',\n",
       " 'fast read fill unexpected humour profound insight art politic policy sly wry wise',\n",
       " 'buy charger instruction light stay battery charge true instruction dont light turn true hour charging light stay return bad unitthe thing charge light useless stay backup charger manage drain aa charger',\n",
       " 'excited find book ostensibly muslim feminism volume live expectationsone essay thing describe veil potentially liberate begin explain whyanother muslim woman cape town claim muslim woman separate equal gee whiz disappointmenti expect hope muslim feminist condemnation gender apartheid single booki surprised essay extoll virtue female genital mutilation alyssa lappen',\n",
       " 'big jvc fan model suspiscious unit return section store buy happy unit send click receiver transition scene smooth pause fairly dvd cd dvd headcleaner work incorrect disc message',\n",
       " 'love style couple year dvd give problem work anymore broken ps mend upgrade recorder work guess give jvc stop work dvd player give problem year',\n",
       " 'scroll dvd menu set vertically triangle key select horizontally select dvd play special feature language select play',\n",
       " 'movie animal grandson occupy babysitte love watch plishe bored worth money matter fact buy house yo cousin house goodbye netflix amazon gammy',\n",
       " 'find copy cookbook local book store mix sourdough starter day bubble morning wait day direction book simple follow anecdote history provide entertain recipe sound delicious work start sourdough hotcake bread handwritten format add charm book interested learn make sourdough book give information',\n",
       " 'book basic book sourdough author lot experience cook sourdough starteri love recipe search internet',\n",
       " 'compare flat panel review narrow pick end sylvania picture great review good picture important quality enjoy make view tv sound forget flat panel disappointment stereo sound tin base boot play dvd sound drop turn volume heari package deal space saving great picture good sound enjoy experience watch listen',\n",
       " 'good book map good cover part central area subway map hostel',\n",
       " 'narrative style work famous founder biographer john morse arrogant flippant frequently exaggerate carry tone amateur yankee historian high pass judgment southern statesman boston harvard graduate penetrate day represent opinion today research thin conclude morse write entire manuscript essentially memory reference primary secondary source expect historian fact morse write piece year ago rate star',\n",
       " 'game require quicktime work version quicktime install quicktime cd click play begrudgingly click instal quicktime install quicktime disc uninstalle version quicktime reinstall barbie rapunzel quicktime frustrating game absolutely work install quicktime tho installation process repeatedly operate system limitation brand computer week state art contraption',\n",
       " 'purchase software year granddaughter love play play plan purchase software program',\n",
       " 'daughter absolutely love game easy require adult supervision girl creativity design castle room time girl daughter play day find excuse bad barbie game easy fun disappointed purchase discover designedpublishe company pay game clearance worth time amount',\n",
       " 'game pretty exciting nice creative kind bad thing castle kid decorate castle basically create username game sister finish castle hour game anymore nice game fun worth money',\n",
       " 'negative game work os require cd multiple computer slow daughter lot access cd everytime task view openning sequence throw save game file task control hard user friendly adultsit crashes timemouse jumpy hard usepositive task easy grand beautifulmy year patience survive multiple trial work',\n",
       " 'year game addict love style program favourite game mend program year find limit',\n",
       " 'purchase jesse rae song rusha enjoy nice overview work funny remember somthe fondly hear life true recording bit date bit tiresome fun',\n",
       " 'perfume awful smells freesiathe gift recipient impress bad return',\n",
       " 'write elizabeth crary parent educator year experience deal disappointment kid cope thing offer parent teacher child care provider work child straightforward guidance teach child meet deal seemingly insurmountable challenge learn recognize child upset shake danger make child happy time teach young selfcalme problemsolving skill stepbystep guide game learn cool kid lose deal disappointment excellent strongly mend resource fill cover cover positive practical guidance guideline',\n",
       " 'big pokey good rapper south album small mic proof listen screw tape cd collection big pokey',\n",
       " 'amazing blend hot beat good rapper underground nervous buy pokey sound lot biggie smalls big biggie style usin word sho nuff pokey lyric good lyric work song complex beat bit simple beat album great trust worth money',\n",
       " 'track original version rerecorde version track remastere irrelevant',\n",
       " 'tess lindsay content sole occupant remote island colin macpherson wash ashore life solitude shake tess fear strange man reluctantly strike friendship colin tess discover family forget courage leave island start life beginning book amusing end decent middle big problem plot lose believability due poor characterization character introduce sided behavior lack reason tess colin development side track relationship awkward force writing improve end save book heart set read book series skip',\n",
       " 'pant big size large incredibly stiff fortable daughter wear day',\n",
       " 'simply great album fulla classic beats super futuristic intelligent bass favorite',\n",
       " 'encounter yoruba cd book short aspect detail grammar nuance speak yoruba clue leave lot question unanswered yoruba textbookson bright note add book good job give insight yoruba people yoruba culture general mend good start book learn yoruba wrong',\n",
       " 'work real good hard set web part work handset manager advertised networking turn']"
      ]
     },
     "execution_count": 15,
     "metadata": {},
     "output_type": "execute_result"
    }
   ],
   "source": [
    "test_texts"
   ]
  },
  {
   "cell_type": "markdown",
   "id": "1dc513c5",
   "metadata": {},
   "source": [
    "# Vectorise texts"
   ]
  },
  {
   "cell_type": "code",
   "execution_count": 16,
   "id": "537b27c7",
   "metadata": {},
   "outputs": [],
   "source": [
    "from sklearn.feature_extraction.text import TfidfVectorizer"
   ]
  },
  {
   "cell_type": "code",
   "execution_count": 17,
   "id": "67dd3b97",
   "metadata": {},
   "outputs": [],
   "source": [
    "vect = TfidfVectorizer(stop_words='english', ngram_range=(1,1))\n",
    "x_train_dtm = vect.fit_transform(train_texts)\n",
    "x_test_dtm = vect.transform(test_texts)"
   ]
  },
  {
   "cell_type": "code",
   "execution_count": 18,
   "id": "e2b794cb",
   "metadata": {},
   "outputs": [
    {
     "data": {
      "text/plain": [
       "<70x1050 sparse matrix of type '<class 'numpy.float64'>'\n",
       "\twith 1657 stored elements in Compressed Sparse Row format>"
      ]
     },
     "execution_count": 18,
     "metadata": {},
     "output_type": "execute_result"
    }
   ],
   "source": [
    "x_train_dtm"
   ]
  },
  {
   "cell_type": "code",
   "execution_count": 19,
   "id": "96dad75f",
   "metadata": {},
   "outputs": [
    {
     "data": {
      "text/plain": [
       "<30x1050 sparse matrix of type '<class 'numpy.float64'>'\n",
       "\twith 370 stored elements in Compressed Sparse Row format>"
      ]
     },
     "execution_count": 19,
     "metadata": {},
     "output_type": "execute_result"
    }
   ],
   "source": [
    "x_test_dtm"
   ]
  },
  {
   "cell_type": "markdown",
   "id": "932d84cd",
   "metadata": {},
   "source": [
    "# Build and evaluate model (Naïve Bayes)"
   ]
  },
  {
   "cell_type": "markdown",
   "id": "5c2a6e39",
   "metadata": {},
   "source": [
    "Build model"
   ]
  },
  {
   "cell_type": "code",
   "execution_count": 20,
   "id": "aeee6f60",
   "metadata": {},
   "outputs": [],
   "source": [
    "from sklearn.naive_bayes import MultinomialNB\n",
    "nb = MultinomialNB()"
   ]
  },
  {
   "cell_type": "code",
   "execution_count": 21,
   "id": "09fb0dc7",
   "metadata": {},
   "outputs": [
    {
     "name": "stdout",
     "output_type": "stream",
     "text": [
      "CPU times: user 5.13 ms, sys: 3.2 ms, total: 8.33 ms\n",
      "Wall time: 12.6 ms\n"
     ]
    },
    {
     "data": {
      "text/plain": [
       "MultinomialNB()"
      ]
     },
     "execution_count": 21,
     "metadata": {},
     "output_type": "execute_result"
    }
   ],
   "source": [
    "# train model using x_train_dtm\n",
    "%time nb.fit(x_train_dtm, train_set.head(70).Score)"
   ]
  },
  {
   "cell_type": "code",
   "execution_count": 22,
   "id": "6bd0bd09",
   "metadata": {},
   "outputs": [],
   "source": [
    "y_pred_class_nb = nb.predict(x_test_dtm)"
   ]
  },
  {
   "cell_type": "markdown",
   "id": "d71f9c37",
   "metadata": {},
   "source": [
    "Evaluate model"
   ]
  },
  {
   "cell_type": "code",
   "execution_count": 23,
   "id": "b8b31c70",
   "metadata": {},
   "outputs": [
    {
     "data": {
      "text/plain": [
       "0.23333333333333334"
      ]
     },
     "execution_count": 23,
     "metadata": {},
     "output_type": "execute_result"
    }
   ],
   "source": [
    "from sklearn import metrics\n",
    "metrics.accuracy_score(test_set.head(30).Score, y_pred_class_nb)"
   ]
  },
  {
   "cell_type": "code",
   "execution_count": null,
   "id": "b8f384bf",
   "metadata": {},
   "outputs": [],
   "source": []
  }
 ],
 "metadata": {
  "kernelspec": {
   "display_name": "Python 3 (ipykernel)",
   "language": "python",
   "name": "python3"
  },
  "language_info": {
   "codemirror_mode": {
    "name": "ipython",
    "version": 3
   },
   "file_extension": ".py",
   "mimetype": "text/x-python",
   "name": "python",
   "nbconvert_exporter": "python",
   "pygments_lexer": "ipython3",
   "version": "3.9.0"
  }
 },
 "nbformat": 4,
 "nbformat_minor": 5
}
