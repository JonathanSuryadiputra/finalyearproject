{
 "cells": [
  {
   "cell_type": "markdown",
   "id": "fb64f292",
   "metadata": {},
   "source": [
    "# Load data and split to train and test"
   ]
  },
  {
   "cell_type": "code",
   "execution_count": null,
   "id": "91e29798",
   "metadata": {},
   "outputs": [],
   "source": [
    "import pandas as pd\n",
    "import numpy as np"
   ]
  },
  {
   "cell_type": "code",
   "execution_count": null,
   "id": "0e8c44d5",
   "metadata": {},
   "outputs": [],
   "source": [
    "from google.colab import files\n",
    "uploaded = files.upload()"
   ]
  },
  {
   "cell_type": "code",
   "execution_count": null,
   "id": "ad00f0ae",
   "metadata": {},
   "outputs": [],
   "source": [
    "reviews = pd.read_csv('Reviews.csv')"
   ]
  },
  {
   "cell_type": "code",
   "execution_count": null,
   "id": "e43f91bb",
   "metadata": {},
   "outputs": [],
   "source": [
    "reviews.head(10)"
   ]
  },
  {
   "cell_type": "code",
   "execution_count": null,
   "id": "c95f2c3d",
   "metadata": {},
   "outputs": [],
   "source": [
    "def classifier(row):\n",
    "    if row['Score'] > 3:\n",
    "        return 'Positive'\n",
    "    else:\n",
    "        return 'Negative'\n",
    "\n",
    "reviews['Response'] = reviews.apply(classifier, axis=1)"
   ]
  },
  {
   "cell_type": "code",
   "execution_count": null,
   "id": "279b473a",
   "metadata": {},
   "outputs": [],
   "source": [
    "reviews.head(10)"
   ]
  },
  {
   "cell_type": "code",
   "execution_count": null,
   "id": "7b4e754f",
   "metadata": {},
   "outputs": [],
   "source": [
    "total_size = len(reviews)\n",
    "total_size"
   ]
  },
  {
   "cell_type": "code",
   "execution_count": null,
   "id": "bdd9f549",
   "metadata": {},
   "outputs": [],
   "source": [
    "train_size = int(0.70*total_size)\n",
    "train_size"
   ]
  },
  {
   "cell_type": "code",
   "execution_count": null,
   "id": "ca748eee",
   "metadata": {},
   "outputs": [],
   "source": [
    "trainSet = reviews.head(train_size)\n",
    "testSet = reviews.tail(total_size-train_size)"
   ]
  },
  {
   "cell_type": "code",
   "execution_count": null,
   "id": "8c78d123",
   "metadata": {},
   "outputs": [],
   "source": [
    "trainSet.Score.value_counts()"
   ]
  },
  {
   "cell_type": "code",
   "execution_count": null,
   "id": "6fa1e475",
   "metadata": {},
   "outputs": [],
   "source": [
    "testSet.Score.value_counts()"
   ]
  },
  {
   "cell_type": "markdown",
   "id": "09c68ba5",
   "metadata": {},
   "source": [
    "# Preprocess texts"
   ]
  },
  {
   "cell_type": "code",
   "execution_count": null,
   "id": "bd021883",
   "metadata": {},
   "outputs": [],
   "source": [
    "from nltk.tokenize import word_tokenize\n",
    "import re\n",
    "import spacy\n",
    "import nltk\n",
    "nlp = spacy.load('en_core_web_sm', disable=['parser', 'ner'])"
   ]
  },
  {
   "cell_type": "code",
   "execution_count": null,
   "id": "fcb8af5a",
   "metadata": {},
   "outputs": [],
   "source": [
    "from google.colab import files\n",
    "uploaded = files.upload()"
   ]
  },
  {
   "cell_type": "code",
   "execution_count": null,
   "id": "ba0fbee6",
   "metadata": {},
   "outputs": [],
   "source": [
    "def preprocess_text(input_str):\n",
    "    words = word_tokenize(input_str)\n",
    "    words = [re.sub(r\"[^A-Za-z@]\", \"\", word) for word in words]\n",
    "    words = [re.sub(r\"\\S+com\", \"\", word) for word in words]\n",
    "    words = [re.sub(r\"\\S+@\\S+\", \"\", word) for word in words]\n",
    "    words = [word for word in words if word!=' ']\n",
    "\n",
    "    #import nltk stopwords\n",
    "    stopwords_nltk = nltk.corpus.stopwords.words('english')\n",
    "    \n",
    "    #import other lists of stopwords\n",
    "    with open('stopwords_en.txt', 'r') as f:\n",
    "        file = f.readlines()\n",
    "    stopwords = []\n",
    "    for word in file:\n",
    "        stopwords.append(word.replace('\\n', ''))\n",
    "\n",
    "    stopwords = stopwords + stopwords_nltk\n",
    "    stopwords = [s.lower() for s in stopwords]\n",
    "    \n",
    "    words = [token.lemma_ for token in nlp(' '.join(words)) if not token.is_punct]\n",
    "    words = [word.lower() for word in words if word.lower() not in stopwords]\n",
    "    \n",
    "    while ' ' in words: words.remove(' ')\n",
    "    return ' '.join(words)"
   ]
  },
  {
   "cell_type": "code",
   "execution_count": null,
   "id": "551d47b6",
   "metadata": {},
   "outputs": [],
   "source": [
    "train_texts = []\n",
    "test_texts = []\n",
    "\n",
    "# remove the [:50] on a more powerful computer\n",
    "for text in trainSet['Text'].tolist():\n",
    "    train_texts.append(preprocess_text(text))\n",
    "    \n",
    "for text in testSet['Text'].tolist():\n",
    "    test_texts.append(preprocess_text(text))"
   ]
  },
  {
   "cell_type": "code",
   "execution_count": null,
   "id": "e049037a",
   "metadata": {},
   "outputs": [],
   "source": [
    "train_texts"
   ]
  },
  {
   "cell_type": "code",
   "execution_count": null,
   "id": "fbed42dd",
   "metadata": {},
   "outputs": [],
   "source": [
    "test_texts"
   ]
  },
  {
   "cell_type": "markdown",
   "id": "99d2ff7e",
   "metadata": {},
   "source": [
    "# Vectorise"
   ]
  },
  {
   "cell_type": "code",
   "execution_count": null,
   "id": "6af02296",
   "metadata": {},
   "outputs": [],
   "source": [
    "from sklearn.feature_extraction.text import CountVectorizer"
   ]
  },
  {
   "cell_type": "code",
   "execution_count": null,
   "id": "faf8a9dc",
   "metadata": {},
   "outputs": [],
   "source": [
    "vect = CountVectorizer()\n",
    "x_train_dtm = vect.fit_transform(train_texts)\n",
    "x_test_dtm = vect.transform(test_texts)"
   ]
  },
  {
   "cell_type": "code",
   "execution_count": null,
   "id": "43487fc3",
   "metadata": {},
   "outputs": [],
   "source": [
    "x_test_dtm"
   ]
  },
  {
   "cell_type": "code",
   "execution_count": null,
   "id": "2b224ecc",
   "metadata": {},
   "outputs": [],
   "source": [
    "x_train_dtm"
   ]
  },
  {
   "cell_type": "markdown",
   "id": "c1d724ec",
   "metadata": {},
   "source": [
    "# Build and evaluate model"
   ]
  },
  {
   "cell_type": "code",
   "execution_count": null,
   "id": "c4a435fe",
   "metadata": {},
   "outputs": [],
   "source": [
    "from sklearn.naive_bayes import MultinomialNB\n",
    "nb = MultinomialNB()"
   ]
  },
  {
   "cell_type": "markdown",
   "id": "4252d6f9",
   "metadata": {},
   "source": [
    "Build model"
   ]
  },
  {
   "cell_type": "code",
   "execution_count": null,
   "id": "82bfe509",
   "metadata": {},
   "outputs": [],
   "source": [
    "# train model using x_train_dtm\n",
    "%time nb.fit(x_train_dtm, trainSet.Score)"
   ]
  },
  {
   "cell_type": "code",
   "execution_count": null,
   "id": "870ee611",
   "metadata": {},
   "outputs": [],
   "source": [
    "y_pred_class_nb = nb.predict(x_test_dtm)"
   ]
  },
  {
   "cell_type": "markdown",
   "id": "aaec6e8b",
   "metadata": {},
   "source": [
    "Evaluate model"
   ]
  },
  {
   "cell_type": "code",
   "execution_count": null,
   "id": "c1e9b607",
   "metadata": {},
   "outputs": [],
   "source": [
    "from sklearn import metrics\n",
    "metrics.accuracy_score(testSet.Score, y_pred_class_nb)"
   ]
  },
  {
   "cell_type": "code",
   "execution_count": null,
   "id": "cb492ff1",
   "metadata": {},
   "outputs": [],
   "source": [
    "con_metrics_nb = metrics.confusion_matrix(testSet.Score, y_pred_class_nb)\n",
    "con_metrics_nb"
   ]
  },
  {
   "cell_type": "code",
   "execution_count": null,
   "id": "788b58a3",
   "metadata": {},
   "outputs": [],
   "source": [
    "import seaborn as sns\n",
    "import matplotlib.pyplot as plt\n",
    "sns.heatmap(con_metrics_nb, annot=True, fmt='d')\n",
    "plt.title('Confusion Matrix: Naive Bayes')\n",
    "plt.show()"
   ]
  },
  {
   "cell_type": "code",
   "execution_count": null,
   "id": "be6efbd7",
   "metadata": {},
   "outputs": [],
   "source": [
    "from sklearn.metrics import classification_report\n",
    "print(classification_report(testSet.Score, y_pred_class_nb))"
   ]
  },
  {
   "cell_type": "code",
   "execution_count": null,
   "id": "c9d0e96c",
   "metadata": {},
   "outputs": [],
   "source": [
    "auc_nb = metrics.roc_auc_score(testSet.Score, y_pred_class_nb)\n",
    "print(auc_nb)"
   ]
  },
  {
   "cell_type": "code",
   "execution_count": null,
   "id": "facd4aac",
   "metadata": {},
   "outputs": [],
   "source": [
    "y_pred_class_nb"
   ]
  },
  {
   "cell_type": "code",
   "execution_count": null,
   "id": "9ae7d350",
   "metadata": {},
   "outputs": [],
   "source": [
    "reviews.tail(total_size-train_size)"
   ]
  },
  {
   "cell_type": "code",
   "execution_count": null,
   "id": "c1e1dc98",
   "metadata": {},
   "outputs": [],
   "source": [
    "test_texts"
   ]
  },
  {
   "cell_type": "code",
   "execution_count": null,
   "id": "418c6f43",
   "metadata": {},
   "outputs": [],
   "source": [
    "testSet.Score"
   ]
  },
  {
   "cell_type": "code",
   "execution_count": null,
   "id": "3e52cabd",
   "metadata": {},
   "outputs": [],
   "source": []
  }
 ],
 "metadata": {
  "kernelspec": {
   "display_name": "Python 3 (ipykernel)",
   "language": "python",
   "name": "python3"
  },
  "language_info": {
   "codemirror_mode": {
    "name": "ipython",
    "version": 3
   },
   "file_extension": ".py",
   "mimetype": "text/x-python",
   "name": "python",
   "nbconvert_exporter": "python",
   "pygments_lexer": "ipython3",
   "version": "3.9.0"
  }
 },
 "nbformat": 4,
 "nbformat_minor": 5
}
